{
 "cells": [
  {
   "cell_type": "markdown",
   "id": "ce9bc95e-0a64-4aa8-b15a-e6752c00d53a",
   "metadata": {},
   "source": [
    "# Dependencies\n",
    "\n",
    "3d party packages:\n",
    "* cvat-sdk - CVAT Python API\n",
    "* python-dotenv - environment variables from .env file (just like docker-compose)"
   ]
  },
  {
   "cell_type": "code",
   "execution_count": null,
   "id": "a5906c30-6b97-4407-9071-5f1e83ed2845",
   "metadata": {
    "tags": []
   },
   "outputs": [],
   "source": [
    "%%capture\n",
    "%pip install -U cvat-sdk python-dotenv"
   ]
  },
  {
   "cell_type": "markdown",
   "id": "d9d2e065-d9a5-4210-b918-3efe38fa1c89",
   "metadata": {},
   "source": [
    "# Paths"
   ]
  },
  {
   "cell_type": "code",
   "execution_count": null,
   "id": "df8e5db5-7326-4036-88be-10d5d7a38824",
   "metadata": {
    "tags": []
   },
   "outputs": [],
   "source": [
    "from os import makedirs, path as osp\n",
    "\n",
    "\n",
    "PATH_DATA = osp.join('.', 'data')\n",
    "PATH_ANNOTATIONS = osp.join(PATH_DATA, 'annotations')\n",
    "PATH_IMAGES = osp.join(PATH_DATA, 'images')\n",
    "PATH_LABELS = osp.join(PATH_DATA, 'labels')\n",
    "\n",
    "makedirs(PATH_ANNOTATIONS, exist_ok=True)\n",
    "makedirs(PATH_IMAGES, exist_ok=True)\n",
    "makedirs(PATH_LABELS, exist_ok=True)"
   ]
  },
  {
   "cell_type": "code",
   "execution_count": null,
   "id": "2c76843d-2871-49ff-a048-9e7d18d2c4d9",
   "metadata": {},
   "outputs": [],
   "source": [
    "%ls {PATH_ANNOTATIONS} {PATH_IMAGES} {PATH_LABELS}"
   ]
  },
  {
   "cell_type": "markdown",
   "id": "df2c4321-676c-4f61-ab12-681d457bca82",
   "metadata": {
    "tags": []
   },
   "source": [
    "# Annotations\n",
    "\n",
    "Annotations are being processed with CVAT. Use CVAT SDK (Python API) to get annotations."
   ]
  },
  {
   "cell_type": "code",
   "execution_count": null,
   "id": "79fccdb8-d650-43d8-92fe-9bb1a6cc360f",
   "metadata": {
    "tags": []
   },
   "outputs": [],
   "source": [
    "# FIXME: remove (debug only)\n",
    "# client = Client(CVAT_SERVER, config=Config(verify_ssl=False))\n",
    "# client.login((CVAT_USER, CVAT_PASSWORD))"
   ]
  },
  {
   "cell_type": "code",
   "execution_count": null,
   "id": "a18c24bb-a2c6-4647-8975-db85497aa3d1",
   "metadata": {
    "tags": []
   },
   "outputs": [],
   "source": [
    "# ...\n",
    "# client.close()"
   ]
  },
  {
   "cell_type": "markdown",
   "id": "959161e8-6b56-4bbc-a0c9-00433d9d283f",
   "metadata": {
    "tags": []
   },
   "source": [
    "## Annotations retrieval\n",
    "\n",
    "CVAT SDK was chosen over Datumaro (and static annotations from GitHub) because of ability to choose annotation based on job status (annotations only from 'completed' jobs are required)."
   ]
  },
  {
   "cell_type": "code",
   "execution_count": null,
   "id": "ce0529c2-51cc-41e8-ad29-d5493d3f8531",
   "metadata": {
    "tags": []
   },
   "outputs": [],
   "source": [
    "from json import loads\n",
    "from urllib3.exceptions import InsecureRequestWarning\n",
    "from warnings import catch_warnings, filterwarnings\n",
    "\n",
    "from cvat_sdk import Client, Config\n",
    "\n",
    "\n",
    "def get_annotations(host, user, password):\n",
    "    with catch_warnings():\n",
    "        # Suppress insecure SSL warnings\n",
    "        filterwarnings(\"ignore\", category=InsecureRequestWarning)\n",
    "\n",
    "        # Create a config instance\n",
    "        config = Config(verify_ssl=False)\n",
    "\n",
    "        # Create a client instance\n",
    "        client = Client(host, config=config)\n",
    "\n",
    "        # Log in to the CVAT server\n",
    "        client.login((user, password))\n",
    "\n",
    "        projects = loads(client.projects.list(return_json=True))\n",
    "        projects = {\n",
    "            project['id']: project\n",
    "            for project in sorted(projects, key=lambda p: p['id'])\n",
    "        }\n",
    "        jobs = loads(client.jobs.list(return_json=True))\n",
    "        jobs_completed = {\n",
    "            job['id']: job for job in jobs if job['status'] == 'completed'\n",
    "        }\n",
    "\n",
    "        # Download the annotations for each completed task\n",
    "        annotations = []\n",
    "        labels_project = {}\n",
    "        for job_id in jobs_completed:\n",
    "            job = client.jobs.retrieve(int(job_id))\n",
    "            meta = job.get_meta().to_dict()  # frame index info\n",
    "            labels = {\n",
    "                label['id']: label\n",
    "                for label in map(lambda l: l.to_dict(), job.get_labels())\n",
    "            }\n",
    "            jobs_completed[job_id]['labels']['extra'] = labels\n",
    "            annotation = job.get_annotations().to_dict()['shapes']\n",
    "            # Hope frames are returned from the server in correct order\n",
    "            frames = job.get_frames_info()\n",
    "            [a.update({\n",
    "                'project_id': jobs_completed[job_id]['project_id'],  # project id to map labels\n",
    "                'project_name': projects[jobs_completed[job_id]['project_id']]['name'],\n",
    "                'job_id': job_id,  # job id to rule them all\n",
    "                'label': labels[a['label_id']]['name'],  # label name\n",
    "                'color': labels[a['label_id']]['color']  # and original color\n",
    "            }) for a in annotation]\n",
    "            [a.update(\n",
    "                frames[a['frame'] - meta['start_frame']].to_dict()\n",
    "            ) for a in annotation]\n",
    "            annotations.append(annotation)\n",
    "\n",
    "        # Close connection\n",
    "        client.logout()\n",
    "\n",
    "    return sum(annotations, []), jobs_completed"
   ]
  },
  {
   "cell_type": "markdown",
   "id": "9c640570-7388-41cd-b60a-2f733bbc3e6f",
   "metadata": {},
   "source": [
    "## Fetch annotations from CVAT\n",
    "\n",
    "Set up environment variables for `CVAT_SERVER`, `CVAT_USER`, `CVAT_PASSWORD` in bash shell, .env file or in the cell below."
   ]
  },
  {
   "cell_type": "code",
   "execution_count": null,
   "id": "7dee525c-d465-4b52-a329-faa66416b68e",
   "metadata": {},
   "outputs": [],
   "source": [
    "from getpass import getpass\n",
    "from os import environ\n",
    "\n",
    "from dotenv import load_dotenv\n",
    "\n",
    "\n",
    "load_dotenv()  # take environment variables from .env (not overwrite existing)\n",
    "\n",
    "# CVAT host address\n",
    "CVAT_SERVER = environ.get('CVAT_SERVER', None) or ''\n",
    "assert CVAT_SERVER, f\"Provide CVAT_SERVER environment variable or set above!\"\n",
    "\n",
    "# CVAT user to login\n",
    "CVAT_USER = environ.get('CVAT_USER', None) or ''\n",
    "assert CVAT_USER, f\"Provide CVAT_USER environment variable or set above!\"\n",
    "\n",
    "# CVAT password to login with\n",
    "CVAT_PASSWORD = (\n",
    "    environ.get('CVAT_PASSWORD', None) or\n",
    "    getpass(f\"Your password for {CVAT_USER}@{CVAT_SERVER}:\")\n",
    ")\n",
    "if not CVAT_PASSWORD:\n",
    "    print(f\"WARNING: login to CVAT server with empty password was not tested!\")"
   ]
  },
  {
   "cell_type": "markdown",
   "id": "c2e0e751-cf36-4571-acac-0bd7baeae4e5",
   "metadata": {},
   "source": [
    "Fetch annotations from CVAT."
   ]
  },
  {
   "cell_type": "code",
   "execution_count": null,
   "id": "77aa839a-6428-489a-9747-01c80af3de3c",
   "metadata": {},
   "outputs": [],
   "source": [
    "annotations, jobs_completed = get_annotations(\n",
    "    CVAT_SERVER, CVAT_USER, CVAT_PASSWORD\n",
    ")"
   ]
  },
  {
   "cell_type": "markdown",
   "id": "ea93a1e1-ffdd-4c3a-b19b-466dcfdedf37",
   "metadata": {},
   "source": [
    "## Extract labels per project"
   ]
  },
  {
   "cell_type": "code",
   "execution_count": null,
   "id": "00221b0c-7aeb-46ac-b38c-d5225743db83",
   "metadata": {
    "tags": []
   },
   "outputs": [],
   "source": [
    "project_labels = {}\n",
    "for job_id, job in jobs_completed.items():\n",
    "    project_labels[job['project_id']] = sorted(job['labels']['extra'].values(), key=lambda v: v['id'])\n",
    "project_labels"
   ]
  },
  {
   "cell_type": "markdown",
   "id": "0c454e09-97d8-4cd0-aeef-e4a03d1403bd",
   "metadata": {},
   "source": [
    "## Create YOLO annotations\n",
    "\n",
    "Generate YOLO annotations via DataFrames."
   ]
  },
  {
   "cell_type": "code",
   "execution_count": null,
   "id": "41364a98-f207-41cf-b284-7250e0bda831",
   "metadata": {
    "tags": []
   },
   "outputs": [],
   "source": [
    "import pandas as pd\n",
    "\n",
    "\n",
    "frame_annotations = pd.DataFrame(annotations)\n",
    "\n",
    "frame_annotations"
   ]
  },
  {
   "cell_type": "code",
   "execution_count": null,
   "id": "70f6a579-f4a8-43b0-a722-5f2bc00f693e",
   "metadata": {
    "tags": []
   },
   "outputs": [],
   "source": [
    "# frame_annotations.columns"
   ]
  },
  {
   "cell_type": "markdown",
   "id": "a159a6fa-cc2e-483c-a6df-c3c907973eb1",
   "metadata": {},
   "source": [
    "### Get label id to name mapping"
   ]
  },
  {
   "cell_type": "code",
   "execution_count": null,
   "id": "f41b7b62-5f88-43bc-bffe-fead7c720b9f",
   "metadata": {
    "tags": []
   },
   "outputs": [],
   "source": [
    "frame_annotations[['label_id', 'project_name']].drop_duplicates()"
   ]
  },
  {
   "cell_type": "markdown",
   "id": "e5fb0fc1-26a7-4418-bbec-d17563b8db4c",
   "metadata": {},
   "source": [
    "### DataFrame with label scheme\n",
    "\n",
    "Labels in CVAT are enumerated across all projects, so one needs to enumerate per-project."
   ]
  },
  {
   "cell_type": "code",
   "execution_count": null,
   "id": "35827bbf-5aa2-4327-ad43-59f03e915bf1",
   "metadata": {
    "tags": []
   },
   "outputs": [],
   "source": [
    "frame_labels = pd.DataFrame(sum(project_labels.values(), []))\n",
    "\n",
    "frame_labels = pd.merge(\n",
    "    frame_labels, frame_annotations[['project_id', 'project_name']].drop_duplicates(),\n",
    "    on='project_id', how='left'\n",
    ")\n",
    "\n",
    "frame_labels.sort_values('id')"
   ]
  },
  {
   "cell_type": "code",
   "execution_count": null,
   "id": "8ba3b220-6ade-40cc-b36e-89c9a5796e83",
   "metadata": {
    "tags": []
   },
   "outputs": [],
   "source": [
    "# frame_labels.columns"
   ]
  },
  {
   "cell_type": "markdown",
   "id": "2013154c-8772-43a4-8006-c19daf9a4120",
   "metadata": {},
   "source": [
    "### Make CVAT to YOLO label mapping"
   ]
  },
  {
   "cell_type": "code",
   "execution_count": null,
   "id": "8fb511e5-733e-4e38-92b0-8353d17367fa",
   "metadata": {
    "tags": []
   },
   "outputs": [],
   "source": [
    "mapping_labels = {}\n",
    "\n",
    "groups = frame_labels.groupby('project_id')\n",
    "\n",
    "for project_id, group in groups:\n",
    "    yolo_ids = dict(enumerate(group.sort_values('id')['id']))\n",
    "    mapping_labels.update({v: k for k, v in yolo_ids.items()})\n",
    "\n",
    "frame_labels['yolo_id'] = frame_labels['id'].apply(lambda x: mapping_labels[x])\n",
    "\n",
    "frame_labels"
   ]
  },
  {
   "cell_type": "code",
   "execution_count": null,
   "id": "3f2be76a-4e02-4ce6-800b-dffad0e9d2d0",
   "metadata": {
    "tags": []
   },
   "outputs": [],
   "source": [
    "PATH_YOLO = osp.join(PATH_DATA, 'yolo')\n",
    "makedirs(PATH_YOLO, exist_ok=True)\n",
    "\n",
    "groups = frame_annotations.groupby('name')\n",
    "projects = {}  # meta info\n",
    "\n",
    "# Create YOLO annotations per image and fill meta info\n",
    "for filename, group in groups:\n",
    "    filename_source = osp.join(PATH_IMAGES, filename)\n",
    "    if not osp.isfile(filename_source):\n",
    "        continue\n",
    "    project_name = group['project_name'].unique().item()\n",
    "    project_dict = projects.get(project_name, {})\n",
    "    project_tasks = project_dict.get('tasks', {})\n",
    "    project_groups = project_dict.get('groups', [])\n",
    "    project_labels = project_dict.get('labels', [])\n",
    "    path_base = PATH_LABELS  # osp.join(PATH_LABELS, project_name)\n",
    "    filename_target = osp.join(path_base, filename)\n",
    "    # Project (CVAT project) -> images (CVAT task) -> item (CVAT image)\n",
    "    project_task = osp.dirname(filename)\n",
    "    project_task_images = project_tasks.get(project_task, [])\n",
    "    project_task_images.append(osp.join('.', osp.basename(PATH_IMAGES), filename))\n",
    "    filename_target = f\"{osp.splitext(filename_target)[0]}.txt\"\n",
    "    # filename_labels = f\"{path_base}.txt\"\n",
    "    makedirs(osp.dirname(filename_target), exist_ok=True)\n",
    "    with open(filename_target, 'w') as target:\n",
    "        items = []\n",
    "        for index, row in group.iterrows():\n",
    "            if row['type'] not in ['rectangle']:\n",
    "                continue  # TODO: render polygons to bboxes\n",
    "            x1, y1, x2, y2 = row['points']\n",
    "            w, h = row['width'], row['height']\n",
    "            items.append(\n",
    "                f\"{mapping_labels[row['label_id']]}\\t\"\n",
    "                f\"{(x1 + x2) / 2 / w:.5f} \"\n",
    "                f\"{(y1 + y2) / 2 / h:.5f} \"\n",
    "                f\"{(x2 - x1) / w:.5f} \"\n",
    "                f\"{(y2 - y1) / h:.5f}\"\n",
    "            )\n",
    "        target.write('\\n'.join(items))\n",
    "    if not project_labels:\n",
    "        project_labels.extend(frame_labels[\n",
    "            frame_labels['project_name'] == project_name\n",
    "        ].sort_values('yolo_id')['name'].tolist())\n",
    "    group['task_name'] = project_task\n",
    "    project_groups.append(group)\n",
    "    project_tasks[project_task] = project_task_images\n",
    "    project_dict['tasks'] = project_tasks\n",
    "    project_dict['groups'] = project_groups\n",
    "    project_dict['labels'] = project_labels\n",
    "    projects[project_name] = project_dict\n",
    "    # with open(filename_labels, 'w') as labels:\n",
    "    #     labels.write('\\n'.join(\n",
    "    #         frame_labels[\n",
    "    #             frame_labels['project_name'] == project_name\n",
    "    #         ].sort_values('yolo_id')['name'].tolist()\n",
    "    #     ))\n",
    "\n",
    "# Create image and label lists from meta info\n",
    "for name, project in projects.items():\n",
    "    for task, images in project['tasks'].items():\n",
    "        with open(osp.join(PATH_DATA, f\"{task}.txt\"), 'w') as target:\n",
    "            target.write('\\n'.join(images))\n",
    "    with open(osp.join(PATH_YOLO, f\"{name}-labels.txt\"), 'w') as target:\n",
    "        target.write('\\n'.join(project['labels']))\n",
    "    project['groups'] = pd.concat(project['groups'])"
   ]
  },
  {
   "cell_type": "markdown",
   "id": "73b5e76d-db98-459b-bdb7-84752fbd0e10",
   "metadata": {},
   "source": [
    "> TODO: COCO annotations in PATH_ANNOTATIONS per project."
   ]
  },
  {
   "cell_type": "code",
   "execution_count": null,
   "id": "1c4cfebb-2218-446a-9040-31485df56466",
   "metadata": {
    "tags": []
   },
   "outputs": [],
   "source": [
    "from pprint import pprint\n",
    "\n",
    "pprint(projects)"
   ]
  },
  {
   "cell_type": "markdown",
   "id": "82499306-5c68-4430-9525-3a8304d959d3",
   "metadata": {},
   "source": [
    "## Split training and validation\n",
    "\n",
    "> TODO: K-fold cross-validation configs for each fold (K-fold training)."
   ]
  },
  {
   "cell_type": "code",
   "execution_count": null,
   "id": "8ca486b4-b60b-4c9f-aa71-e1b750c85fe8",
   "metadata": {
    "tags": []
   },
   "outputs": [],
   "source": [
    "from yaml import dump\n",
    "\n",
    "from sklearn.model_selection import StratifiedGroupKFold\n",
    "\n",
    "\n",
    "PATH_CONFIG = osp.join(PATH_DATA, 'config')\n",
    "makedirs(PATH_CONFIG, exist_ok=True)\n",
    "\n",
    "sgkf5 = StratifiedGroupKFold(n_splits=5)\n",
    "\n",
    "for name, project in projects.items():\n",
    "    frame_groups = project['groups']\n",
    "    frame_groups = frame_groups[frame_groups['type'] == 'rectangle']  # TODO: polygons\n",
    "    index_train, index_valid = next(iter(\n",
    "        sgkf5.split(frame_groups, frame_groups['label_id'],\n",
    "                    groups=frame_groups['task_name'])\n",
    "    ))\n",
    "    items_train = frame_groups.iloc[index_train]['task_name'].unique().tolist()\n",
    "    items_train = [\n",
    "        f\"{osp.join('.', osp.basename(PATH_DATA), item)}.txt\"\n",
    "        for item in items_train\n",
    "    ]\n",
    "    items_valid = frame_groups.iloc[index_valid]['task_name'].unique().tolist()\n",
    "    items_valid = [\n",
    "        f\"{osp.join('.', osp.basename(PATH_DATA), item)}.txt\"\n",
    "        for item in items_valid\n",
    "    ]\n",
    "    config = {\n",
    "        'train': items_train,\n",
    "        'val': items_valid,\n",
    "        'test': items_valid,\n",
    "        'nc': len(project['labels']),\n",
    "        'names': project['labels']\n",
    "    }\n",
    "    with open(osp.join(PATH_CONFIG, f\"{name}.yaml\"), 'w') as target:\n",
    "        dump(config, target)"
   ]
  },
  {
   "cell_type": "code",
   "execution_count": null,
   "id": "45af7a8f-2738-4c11-ac03-47ee414d82fd",
   "metadata": {
    "tags": []
   },
   "outputs": [],
   "source": [
    "%ls {PATH_ANNOTATIONS}/*"
   ]
  },
  {
   "cell_type": "code",
   "execution_count": null,
   "id": "a844aff2-790b-463a-9100-7cec6222be9b",
   "metadata": {},
   "outputs": [],
   "source": [
    "%ls {PATH_LABELS}/*"
   ]
  },
  {
   "cell_type": "code",
   "execution_count": null,
   "id": "465ceb1e-9bcd-4b10-9213-c36b4a838cbe",
   "metadata": {},
   "outputs": [],
   "source": []
  }
 ],
 "metadata": {
  "kernelspec": {
   "display_name": "Python 3 (ipykernel)",
   "language": "python",
   "name": "python3"
  },
  "language_info": {
   "codemirror_mode": {
    "name": "ipython",
    "version": 3
   },
   "file_extension": ".py",
   "mimetype": "text/x-python",
   "name": "python",
   "nbconvert_exporter": "python",
   "pygments_lexer": "ipython3",
   "version": "3.9.7"
  }
 },
 "nbformat": 4,
 "nbformat_minor": 5
}
