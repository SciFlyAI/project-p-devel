{
 "cells": [
  {
   "cell_type": "markdown",
   "id": "d5b3123c-ccad-4345-aeaf-97b8de7a65b0",
   "metadata": {},
   "source": [
    "# Dependencies\n",
    "\n",
    "3d party packages:\n",
    "* b3w - boto3 wrapper (with boto3 dependency)\n",
    "* cvat-sdk - CVAT Python API\n",
    "* python-dotenv - environment variables from .env file (just like docker-compose)"
   ]
  },
  {
   "cell_type": "code",
   "execution_count": null,
   "id": "890dcfb0-cef3-4aec-b139-d118a935891e",
   "metadata": {
    "tags": []
   },
   "outputs": [],
   "source": [
    "%%capture\n",
    "%pip uninstall -y b3w\n",
    "%pip install -U git+https://github.com/ValV/b3w.git cvat-sdk python-dotenv"
   ]
  },
  {
   "cell_type": "markdown",
   "id": "8e682435-d06b-48df-bffd-a145d1acceab",
   "metadata": {},
   "source": [
    "# Paths"
   ]
  },
  {
   "cell_type": "code",
   "execution_count": null,
   "id": "024a1e0b-c7d4-4ac3-a3d1-3325a00d5e82",
   "metadata": {
    "tags": []
   },
   "outputs": [],
   "source": [
    "from os import makedirs, path as osp\n",
    "\n",
    "\n",
    "PATH_DATA = osp.join('.', 'data')\n",
    "PATH_IMAGES = osp.join(PATH_DATA, 'images')\n",
    "PATH_ANNOTATIONS = osp.join(PATH_DATA, 'annotations')\n",
    "\n",
    "makedirs(PATH_IMAGES, exist_ok=True)\n",
    "makedirs(PATH_ANNOTATIONS, exist_ok=True)"
   ]
  },
  {
   "cell_type": "markdown",
   "id": "8c8455da-541c-4ec3-ae2d-5f7d1cfe94c0",
   "metadata": {},
   "source": [
    "# Images\n",
    "\n",
    "Images are stored in VK Cloud S3 storage. Use B3W (boto3 wrapper) to download them locally."
   ]
  },
  {
   "cell_type": "code",
   "execution_count": null,
   "id": "9eb17da5-8eb4-4b56-aa01-79520eaff3ca",
   "metadata": {},
   "outputs": [],
   "source": [
    "from os import environ\n",
    "\n",
    "from dotenv import load_dotenv\n",
    "\n",
    "\n",
    "load_dotenv()  # take environment variables from .env (not overwrite existing)\n",
    "\n",
    "# S3-like object storage bucket name\n",
    "S3_BUCKET = environ.get('S3_BUCKET', None) or ''\n",
    "assert S3_BUCKET, f\"Provide S3_BUCKET environment variable or set above!\"\n",
    "\n",
    "# S3-like object storage host address\n",
    "S3_HOST = environ.get('S3_HOST', None) or ''\n",
    "assert S3_HOST, f\"Provide S3_HOST environment variable or set above!\""
   ]
  },
  {
   "cell_type": "code",
   "execution_count": null,
   "id": "7eaeef39-04d6-4357-9f2a-33efe717e069",
   "metadata": {
    "tags": []
   },
   "outputs": [],
   "source": [
    "from b3w import B3W\n",
    "\n",
    "\n",
    "b3w = B3W(S3_BUCKET, local_path=PATH_IMAGES,\n",
    "          profile_name=S3_BUCKET, endpoint_url=S3_HOST)\n",
    "\n",
    "filenames = [\n",
    "    filename for filename in b3w.ls() if filename.upper().endswith('.JPG')\n",
    "]\n",
    "\n",
    "len(filenames)"
   ]
  },
  {
   "cell_type": "markdown",
   "id": "f66fd94c-fddb-49cf-8376-4a42efbdf409",
   "metadata": {},
   "source": [
    "Target directory before downloading."
   ]
  },
  {
   "cell_type": "code",
   "execution_count": null,
   "id": "775b8788-2410-4217-a3b3-814459589888",
   "metadata": {
    "tags": []
   },
   "outputs": [],
   "source": [
    "%ls {PATH_IMAGES}"
   ]
  },
  {
   "cell_type": "markdown",
   "id": "a69d7142-7dd8-4cf2-8a09-a3d9143b3d99",
   "metadata": {},
   "source": [
    "## Downloading\n",
    "\n",
    "> NOTE: uncomment to download."
   ]
  },
  {
   "cell_type": "code",
   "execution_count": null,
   "id": "6e434923-d138-409e-a05c-734502a19fc0",
   "metadata": {
    "tags": []
   },
   "outputs": [],
   "source": [
    "# for filename in filenames:\n",
    "#     b3w.get(filename)"
   ]
  },
  {
   "cell_type": "markdown",
   "id": "3251a0a3-a212-4ecf-aee5-858955976793",
   "metadata": {},
   "source": [
    "Target directory after loading."
   ]
  },
  {
   "cell_type": "code",
   "execution_count": null,
   "id": "1b55a65d-7370-4ab8-a0f8-6ea5cfd7b505",
   "metadata": {},
   "outputs": [],
   "source": [
    "%ls {PATH_IMAGES}"
   ]
  },
  {
   "cell_type": "markdown",
   "id": "263490d2-7e6b-4c73-bbf9-68e19817d858",
   "metadata": {
    "tags": []
   },
   "source": [
    "# Annotations\n",
    "\n",
    "Annotations are being processed with CVAT. Use CVAT SDK (Python API) to get annotations."
   ]
  },
  {
   "cell_type": "markdown",
   "id": "47213d85-c9f1-4d7b-ac9b-645f429565e5",
   "metadata": {
    "tags": []
   },
   "source": [
    "## Annotations retrieval function\n",
    "\n",
    "CVAT SDK was chosen over Datumaro (and static annotations from GitHub) because of ability to choose annotation based on job status (annotations only from 'completed' jobs are required)."
   ]
  },
  {
   "cell_type": "code",
   "execution_count": null,
   "id": "bc412789-9193-4831-8d2a-111cb528f513",
   "metadata": {
    "tags": []
   },
   "outputs": [],
   "source": [
    "from json import loads\n",
    "from urllib3.exceptions import InsecureRequestWarning\n",
    "from warnings import catch_warnings, filterwarnings\n",
    "\n",
    "from cvat_sdk import Client, Config\n",
    "\n",
    "\n",
    "def get_annotations(host, user, password):\n",
    "    with catch_warnings():\n",
    "        # Suppress insecure SSL warnings\n",
    "        filterwarnings(\"ignore\", category=InsecureRequestWarning)\n",
    "\n",
    "        # Create a config instance\n",
    "        config = Config(verify_ssl=False)\n",
    "\n",
    "        # Create a client instance\n",
    "        client = Client(host, config=config)\n",
    "\n",
    "        # Log in to the CVAT server\n",
    "        client.login((user, password))\n",
    "\n",
    "        jobs = loads(client.jobs.list(return_json=True))\n",
    "        jobs_completed = {\n",
    "            job['id']: job for job in jobs if job['status'] == 'completed'\n",
    "        }\n",
    "\n",
    "        # Download the annotations for each completed task\n",
    "        annotations = []\n",
    "        for job_id in jobs_completed:\n",
    "            job = client.jobs.retrieve(int(job_id))\n",
    "            meta = job.get_meta().to_dict()\n",
    "            labels = {\n",
    "                label['id']: label\n",
    "                for label in map(lambda l: l.to_dict(), job.get_labels())\n",
    "            }\n",
    "            annotation = job.get_annotations().to_dict()['shapes']\n",
    "            # Hope frames are returned from the server in correct order\n",
    "            frames = job.get_frames_info()\n",
    "            [a.update({\n",
    "                'job_id': job_id,  # job id to rule them all\n",
    "                'label': labels[a['label_id']]['name'],  # label name\n",
    "                'color': labels[a['label_id']]['color']  # and original color\n",
    "            }) for a in annotation]\n",
    "            [a.update(\n",
    "                frames[a['frame'] - meta['start_frame']].to_dict()\n",
    "            ) for a in annotation]\n",
    "            annotations.append(annotation)\n",
    "\n",
    "        # Close connection\n",
    "        client.logout()\n",
    "\n",
    "    return sum(annotations, []), jobs_completed"
   ]
  },
  {
   "cell_type": "markdown",
   "id": "403bcf57-f74f-4d27-8bea-2ad191e05bbe",
   "metadata": {},
   "source": [
    "## Fetch annotations from CVAT\n",
    "\n",
    "Set up environment variables for `CVAT_SERVER`, `CVAT_USER`, `CVAT_PASSWORD` in bash shell, .env file or in the cell below."
   ]
  },
  {
   "cell_type": "code",
   "execution_count": null,
   "id": "66917104-f9f8-49bc-943b-1d9cf689ff4e",
   "metadata": {},
   "outputs": [],
   "source": [
    "from getpass import getpass\n",
    "\n",
    "\n",
    "# CVAT host address\n",
    "CVAT_SERVER = environ.get('CVAT_SERVER', None) or ''\n",
    "assert CVAT_SERVER, f\"Provide CVAT_SERVER environment variable or set above!\"\n",
    "\n",
    "# CVAT user to login\n",
    "CVAT_USER = environ.get('CVAT_USER', None) or ''\n",
    "assert CVAT_USER, f\"Provide CVAT_USER environment variable or set above!\"\n",
    "\n",
    "# CVAT password to login with\n",
    "CVAT_PASSWORD = (\n",
    "    environ.get('CVAT_PASSWORD', None) or\n",
    "    getpass(f\"Your password for {CVAT_USER}@{CVAT_SERVER}:\")\n",
    ")\n",
    "if not CVAT_PASSWORD:\n",
    "    print(f\"WARNING: login to CVAT server with empty password was not tested!\")"
   ]
  },
  {
   "cell_type": "markdown",
   "id": "1a4681e0-025c-4e97-81c6-bc63c6d3e486",
   "metadata": {},
   "source": [
    "Fetch annotations from CVAT."
   ]
  },
  {
   "cell_type": "code",
   "execution_count": null,
   "id": "a1bb356a-aaf7-47ba-9f66-ca239daf8ab6",
   "metadata": {},
   "outputs": [],
   "source": [
    "annotations, jobs_completed = get_annotations(\n",
    "    CVAT_SERVER, CVAT_USER, CVAT_PASSWORD\n",
    ")"
   ]
  },
  {
   "cell_type": "markdown",
   "id": "2efcbe5d-8a03-4739-8770-2f0aecc0585c",
   "metadata": {},
   "source": [
    "## Explore annotations with DataFrames"
   ]
  },
  {
   "cell_type": "code",
   "execution_count": null,
   "id": "b703630c-71fc-4ce3-bfab-281f03a55b68",
   "metadata": {
    "tags": []
   },
   "outputs": [],
   "source": [
    "import pandas as pd\n",
    "\n",
    "\n",
    "frame_annotations = pd.DataFrame(annotations)\n",
    "\n",
    "frame_annotations"
   ]
  },
  {
   "cell_type": "markdown",
   "id": "b55387ae-9ede-4bea-b359-bc551c02ffef",
   "metadata": {},
   "source": [
    "## Draw annotations\n",
    "\n",
    "Use Matplotlib to draw annotations. Source annotations may be composed of rectangles and polygons, but only rectangles are used for detection.\n",
    "\n",
    "Rectangles:\n",
    "* 4-component list [x1, y1, x2, y2] with absolute position values;\n",
    "* float type.\n",
    "\n",
    "Polygons:\n",
    "* 2n-component list [x1, y1, x2, y2, ..., xn, yn] with absolute position values;\n",
    "* float type."
   ]
  },
  {
   "cell_type": "code",
   "execution_count": null,
   "id": "73e30caa-c157-48cf-9c77-7bf16d0cc316",
   "metadata": {
    "tags": []
   },
   "outputs": [],
   "source": [
    "from random import sample\n",
    "\n",
    "from matplotlib import pyplot as plt\n",
    "from matplotlib.patches import Polygon, Rectangle\n",
    "\n",
    "\n",
    "NUM_SAMPLES = 8\n",
    "groups = frame_annotations.groupby('name')\n",
    "index = sample((range(len(groups))), k=NUM_SAMPLES)\n",
    "\n",
    "count = 0\n",
    "for filename, group in groups:\n",
    "    if count in index:\n",
    "        path = osp.join(PATH_IMAGES, filename)\n",
    "        if not osp.isfile(path):\n",
    "            print(f\"File {path} does not exist!\")\n",
    "            continue\n",
    "        else:\n",
    "            print(f\"File {path}\")\n",
    "        figure, axes = plt.subplots()\n",
    "        axes.axis('off')\n",
    "        image = plt.imread(path)\n",
    "        axes.imshow(image)\n",
    "        legends = {}\n",
    "        for i, row in group.iterrows():\n",
    "            color = row['color']\n",
    "            label = row['label']\n",
    "            if row['type'] == 'rectangle':\n",
    "                x1, y1, x2, y2 = row['points']\n",
    "                patch = Rectangle(\n",
    "                    (x1, y1), x2 - x1, y2 - y1, fc='none', ec=color, lw=1,\n",
    "                    label=label\n",
    "                )\n",
    "                axes.add_patch(patch)\n",
    "            elif row['type'] == 'polygon':\n",
    "                # Un-flatten [x1, y1, ..., xn, yn] to [[x1, y1], ..., [xn, yn]]\n",
    "                vertices = tuple(zip(row['points'][0::2], row['points'][1::2]))\n",
    "                patch = Polygon(\n",
    "                    vertices, closed=True, fc='none', ec=color, lw=1,\n",
    "                    label=label\n",
    "                )\n",
    "                axes.add_patch(patch)\n",
    "            else:\n",
    "                patch = None  # FIXME: it will disable legend if comes first\n",
    "                print(f\"Unimplemented {row['type']=}!\")\n",
    "            legends[label] = legends.get(label, patch)  # group legend by label\n",
    "        print(f\"Size = {(row['width'], row['height'])}\")\n",
    "        axes.legend(handles=legends.values(), labels=legends.keys())\n",
    "        plt.show()\n",
    "    count += 1"
   ]
  },
  {
   "cell_type": "markdown",
   "id": "7fc0d408-fbc6-45ab-bce1-5e4d5ea56406",
   "metadata": {},
   "source": [
    "## Image sizes from annotations"
   ]
  },
  {
   "cell_type": "code",
   "execution_count": null,
   "id": "aae7ed22-efd5-4d2b-80b7-752c75b29926",
   "metadata": {
    "tags": []
   },
   "outputs": [],
   "source": [
    "frame_annotations[['width', 'height']].plot.scatter('width', 'height')"
   ]
  },
  {
   "cell_type": "markdown",
   "id": "9f5f5650-0016-4865-9997-e3b1eeb6f2b3",
   "metadata": {},
   "source": [
    "## Bbox sizes"
   ]
  },
  {
   "cell_type": "code",
   "execution_count": null,
   "id": "f4b16ae7-9745-4de3-9932-a3bc8df511d1",
   "metadata": {
    "tags": []
   },
   "outputs": [],
   "source": [
    "frame_annotations_bbox = frame_annotations[\n",
    "    frame_annotations['type'] == 'rectangle'\n",
    "].apply(\n",
    "    lambda x: (x['points'][2] - x['points'][0], x['points'][3] - x['points'][1]),\n",
    "    result_type='expand',\n",
    "    axis=1\n",
    ").rename({0: 'width', 1: 'height'}, axis=1)\n",
    "_ = frame_annotations_bbox.plot.scatter('width', 'height')"
   ]
  },
  {
   "cell_type": "markdown",
   "id": "904e5101-ee0f-480c-bcca-36a94f031ac6",
   "metadata": {},
   "source": [
    "Sorting bbox sizes by width and height will provide clues on how much the source image may be downsampled to preserve bboxes.\n",
    "\n",
    "> The source images may be downsampled x5 times."
   ]
  },
  {
   "cell_type": "code",
   "execution_count": null,
   "id": "d0e0a88b-5b2d-4493-8475-8c1066bbcdc0",
   "metadata": {
    "tags": []
   },
   "outputs": [],
   "source": [
    "frame_annotations_bbox.sort_values(['width', 'height'], ascending=True)"
   ]
  },
  {
   "cell_type": "markdown",
   "id": "82f2d1e2-7c0c-4d19-9cb7-07672399831f",
   "metadata": {},
   "source": [
    "The source image sizes downsampled.\n",
    "\n",
    "> YOLO detector model input size can be 1024x1024."
   ]
  },
  {
   "cell_type": "code",
   "execution_count": null,
   "id": "c50f52bd-ed3d-465f-bf5d-7cb9381ba9db",
   "metadata": {
    "tags": []
   },
   "outputs": [],
   "source": [
    "_ = frame_annotations[\n",
    "    ['width', 'height']\n",
    "].apply(lambda x: x / 5).plot.scatter('width', 'height')"
   ]
  },
  {
   "cell_type": "markdown",
   "id": "50414f28-a22b-40db-9fd4-b6237f921be7",
   "metadata": {},
   "source": [
    "## Files exist"
   ]
  },
  {
   "cell_type": "code",
   "execution_count": null,
   "id": "eb0a039d-170d-429f-a4ef-3d3bee56b1ec",
   "metadata": {},
   "outputs": [],
   "source": [
    "file_exists = lambda x: osp.exists(osp.join(PATH_IMAGES, x))\n",
    "\n",
    "frame_annotations['exists'] = frame_annotations['name'].apply(file_exists)\n",
    "\n",
    "frame_exists = frame_annotations[['name', 'exists']].drop_duplicates('name')\n",
    "\n",
    "print(frame_exists['exists'].sum(), 'of', frame_exists['name'].count())"
   ]
  },
  {
   "cell_type": "code",
   "execution_count": null,
   "id": "747c19b0-f14e-459d-ad1d-be07aba5cf34",
   "metadata": {},
   "outputs": [],
   "source": []
  }
 ],
 "metadata": {
  "kernelspec": {
   "display_name": "Python 3 (ipykernel)",
   "language": "python",
   "name": "python3"
  },
  "language_info": {
   "codemirror_mode": {
    "name": "ipython",
    "version": 3
   },
   "file_extension": ".py",
   "mimetype": "text/x-python",
   "name": "python",
   "nbconvert_exporter": "python",
   "pygments_lexer": "ipython3",
   "version": "3.9.7"
  }
 },
 "nbformat": 4,
 "nbformat_minor": 5
}
